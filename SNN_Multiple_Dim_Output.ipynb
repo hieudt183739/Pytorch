{
 "cells": [
  {
   "cell_type": "markdown",
   "id": "3c8cedd8-6fa8-4a4f-8943-ccf0f1442e31",
   "metadata": {},
   "source": [
    "# <center>SNN with Multiple Dimension Input</center>\n",
    "\n",
    "<div align=\"center\">\n",
    "    <img src=\"./image/Screenshot from 2023-06-17 21-58-14.png\" width=\"700\">\n",
    "</div>\n",
    "\n",
    "+ Sample llà ảnh đen trắng kích thước 28x28\n",
    "+ Có 100 Neural ở tầng ẩn, 10 Neural ở tầng đầu ra\n",
    "+ Tầng ẩn dùng hàm tác đông là hàm Sigmoid, tầng đầu ra dùng hàm tác động là Softmax\n",
    "+ Do dùng hàm Softmax, học các bộ trọng số khác nhau cho từng nhãn, vì vậy cân 10 Neural, vì mỗi Neural chỉ có 1 bộ trọng số, 1 Neural ko thể có nhiều hơn 1 bộ trọng số w\n",
    "+ Hàm lỗi là hàm crossEntropy sử dụng cho phân loại nhiều hơn 2 nhãn"
   ]
  },
  {
   "cell_type": "code",
   "execution_count": 1,
   "id": "981ea1b3-0622-4467-a77e-9874bea3e147",
   "metadata": {},
   "outputs": [],
   "source": [
    "import torch\n",
    "from torch import nn, optim, sigmoid\n",
    "from torch.utils.data import Dataset, DataLoader \n",
    "import torchvision.datasets as dataset\n",
    "import torchvision.transforms as transforms\n",
    "import matplotlib.pyplot as plt\n",
    "import numpy as np"
   ]
  },
  {
   "cell_type": "markdown",
   "id": "d1ce6540-4188-437d-9a5d-9f1988c269d1",
   "metadata": {},
   "source": [
    "## Create Dataset"
   ]
  },
  {
   "cell_type": "code",
   "execution_count": 2,
   "id": "c3a06ec1-6fc7-45c7-9c31-6a629d349d41",
   "metadata": {},
   "outputs": [
    {
     "name": "stdout",
     "output_type": "stream",
     "text": [
      "Train Size: 60000\n",
      "Valid Size: 60000\n",
      "Sample Dimension: torch.Size([1, 28, 28])\n"
     ]
    },
    {
     "data": {
      "image/png": "[encoded data removed]",
      "text/plain": [
       "<Figure size 640x480 with 1 Axes>"
      ]
     },
     "metadata": {},
     "output_type": "display_data"
    }
   ],
   "source": [
    "train_dataset = dataset.MNIST(root='./data', train=True, download=True, transform=transforms.ToTensor())\n",
    "validation_dataset = dataset.MNIST(root='./data', download=True, transform=transforms.ToTensor())\n",
    "\n",
    "# View feature\n",
    "print(f'Train Size: {len(train_dataset)}')\n",
    "print(f'Valid Size: {len(validation_dataset)}')\n",
    "print(f'Sample Dimension: {train_dataset[0][0].shape}')\n",
    "\n",
    "# view Image\n",
    "plt.imshow(train_dataset[0][0].numpy().reshape(28,28), cmap='gray')\n",
    "plt.title(f'Label: {train_dataset[0][1]}')\n",
    "plt.show()"
   ]
  },
  {
   "cell_type": "markdown",
   "id": "35ca59f6-1354-4536-a3d2-d3637e91c10e",
   "metadata": {},
   "source": [
    "## Create Module\n",
    "\n",
    "    "
   ]
  },
  {
   "cell_type": "code",
   "execution_count": 3,
   "id": "21196e7c-fab8-41e5-b7d6-b7bdb2d7c067",
   "metadata": {},
   "outputs": [],
   "source": [
    "class SNN(nn.Module):\n",
    "    def __init__(self, input_dim, H, output_dim):\n",
    "        super(SNN, self).__init__()\n",
    "        self.linear1 = nn.Linear(input_dim, H)    # hidden layer \n",
    "        self.linear2 = nn.Linear(H, output_dim)   # output layer\n",
    "    \n",
    "    def forward(self, x):\n",
    "        z1 = sigmoid(self.linear1(x))\n",
    "        z2 = self.linear2(z1)\n",
    "        return z2\n",
    "\n",
    "criterion = nn.CrossEntropyLoss()"
   ]
  },
  {
   "cell_type": "markdown",
   "id": "c9aaea01-7710-454b-b50d-d13537e9347a",
   "metadata": {},
   "source": [
    "## Create Model, DataLoader, Opitmazer"
   ]
  },
  {
   "cell_type": "code",
   "execution_count": 4,
   "id": "4af7f57e-0940-4750-8154-c1b9917efc2d",
   "metadata": {},
   "outputs": [],
   "source": [
    "input_dim = 28 * 28   # Số Neural ở tầng đầu vào \n",
    "output_dim = 10       # Số Neural ở tầng đâu ra\n",
    "H = 1                 # Số Neural ở tầng ẩn\n",
    "model = SNN(input_dim, H, output_dim)\n",
    "trainloader = DataLoader(dataset=train_dataset, batch_size=1)\n",
    "validloader = DataLoader(dataset=validation_dataset, batch_size=1)\n",
    "optimazer = optim.SGD(model.parameters(), lr=0.01)"
   ]
  },
  {
   "cell_type": "markdown",
   "id": "a4d08d49-8e59-48c5-a120-936c538dbed3",
   "metadata": {},
   "source": [
    "## Training\n"
   ]
  },
  {
   "cell_type": "code",
   "execution_count": 5,
   "id": "b682930c-7568-429e-a991-0676a8f16b21",
   "metadata": {},
   "outputs": [],
   "source": [
    "COST = {'cost_train': [], 'cost_valid': []}\n",
    "ACC = []\n",
    "def training(epochs):\n",
    "    for epoch in range(epochs):\n",
    "        total_loss = 0    # Lưu tổng lỗi của 1 chu kì \n",
    "        for X,y in trainloader:\n",
    "            Z = model(X.view(-1, input_dim))\n",
    "            loss = criterion(Z, y)\n",
    "            optimazer.zero_grad()\n",
    "            loss.backward()\n",
    "            optimazer.step()\n",
    "            total_loss += loss.item()\n",
    "            \n",
    "        COST['cost_train'].append(total_loss / len(train_dataset))\n",
    "        \n",
    "        # validing\n",
    "        total_loss = 0\n",
    "        correct = 0    # số sample đoán đúng nhãn\n",
    "        for X,y in validloader:\n",
    "            Z = model(X.view(-1, input_dim))\n",
    "            loss = criterion(Z, y)\n",
    "            total_loss += loss\n",
    "            _, yhat = torch.max(Z, 1)     \n",
    "            correct += (y==yhat).item()\n",
    "\n",
    "        COST['cost_valid'].append(total_loss / len(validation_dataset))\n",
    "        ACC.append(100 * correct/len(validation_dataset))"
   ]
  },
  {
   "cell_type": "code",
   "execution_count": 7,
   "id": "94048410-d0a5-4536-8e92-5e5836c0e221",
   "metadata": {},
   "outputs": [],
   "source": [
    "training(1)"
   ]
  },
  {
   "cell_type": "markdown",
   "id": "c98b558e-e11a-4670-8831-794044492fc4",
   "metadata": {},
   "source": [
    "## Show Result"
   ]
  },
  {
   "cell_type": "code",
   "execution_count": null,
   "id": "bd82569a-5cdf-4fb8-a3fa-dd33f0f86078",
   "metadata": {},
   "outputs": [],
   "source": []
  }
 ],
 "metadata": {
  "kernelspec": {
   "display_name": "Python 3 (ipykernel)",
   "language": "python",
   "name": "python3"
  },
  "language_info": {
   "codemirror_mode": {
    "name": "ipython",
    "version": 3
   },
   "file_extension": ".py",
   "mimetype": "text/x-python",
   "name": "python",
   "nbconvert_exporter": "python",
   "pygments_lexer": "ipython3",
   "version": "3.10.6"
  }
 },
 "nbformat": 4,
 "nbformat_minor": 5
}
