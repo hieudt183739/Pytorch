{
 "cells": [
  {
   "cell_type": "code",
   "execution_count": 1,
   "metadata": {
    "tags": []
   },
   "outputs": [
    {
     "name": "stdout",
     "output_type": "stream",
     "text": [
      "Paramaters befor training: OrderedDict([('linear.weight', tensor([[3., 2.]])), ('linear.bias', tensor([3.]))])\n"
     ]
    },
    {
     "name": "stderr",
     "output_type": "stream",
     "text": [
      "/home/hieu/.local/lib/python3.10/site-packages/torch/autograd/__init__.py:200: UserWarning: CUDA initialization: The NVIDIA driver on your system is too old (found version 9010). Please update your GPU driver by downloading and installing a new version from the URL: http://www.nvidia.com/Download/index.aspx Alternatively, go to: https://pytorch.org to install a PyTorch version that has been compiled with your version of the CUDA driver. (Triggered internally at ../c10/cuda/CUDAFunctions.cpp:109.)\n",
      "  Variable._execution_engine.run_backward(  # Calls into the C++ engine to run the backward pass\n"
     ]
    },
    {
     "name": "stdout",
     "output_type": "stream",
     "text": [
      "Paramaters after training: OrderedDict([('linear.weight', tensor([[2.6004, 1.2009]])), ('linear.bias', tensor([1.0495]))])\n"
     ]
    }
   ],
   "source": [
    "'''\n",
    "Equation: y = Xw + b\n",
    "'''\n",
    "\n",
    "import torch\n",
    "from torch import nn, optim\n",
    "from torch.utils.data import Dataset, DataLoader\n",
    "\n",
    "# Create Dataset\n",
    "class Data(Dataset):   \n",
    "    # y = w1x1 + w2x2 + b\n",
    "    def __init__(self):\n",
    "        self.X = torch.zeros(20, 2)\n",
    "        self.X[:,0] = torch.arange(-1, 1, 0.1)\n",
    "        self.X[:,1] = torch.arange(-2, 2, 0.2)\n",
    "        self.b = torch.tensor(1.0)\n",
    "        self.w = torch.tensor([[1.0],[2.0]])\n",
    "        self.y = torch.mm(self.X, self.w) + self.b + 0.1 * torch.rand(self.X.shape[0], 1) \n",
    "        \n",
    "    def __getitem__(self, index):\n",
    "        return self.X[index,:], self.y[index]\n",
    "    \n",
    "    def __len__(self):\n",
    "        return self.X.shape[0]\n",
    "\n",
    "# Create Multiple LR\n",
    "class LR(nn.Module):  \n",
    "    \n",
    "    def __init__(self, input_size, output_size):\n",
    "        super(LR, self).__init__()\n",
    "        self.linear = nn.Linear(input_size, output_size)\n",
    "        \n",
    "    def forward(self, X):\n",
    "        yhat = self.linear(X)\n",
    "        return yhat\n",
    "\n",
    "criteration = nn.MSELoss()\n",
    "\n",
    "# Create Components\n",
    "data = Data()\n",
    "model = LR(2, 1)\n",
    "model.state_dict()['linear.weight'][0] = torch.tensor([3., 2.])\n",
    "model.state_dict()['linear.bias'][0] = 3\n",
    "print(f'Paramaters befor training: {model.state_dict()}')    \n",
    "\n",
    "# Choose W Update Method\n",
    "optimizer = optim.SGD(model.parameters(), lr=0.01)\n",
    "\n",
    "# Create DataLoader\n",
    "trainloader = DataLoader(dataset=data, batch_size=2)\n",
    "\n",
    "# Train\n",
    "def train(epochs):\n",
    "    for epoch in range(epochs):\n",
    "        for X,y in trainloader:\n",
    "            yhat = model(X)\n",
    "            loss = criteration(yhat, y)\n",
    "            optimizer.zero_grad()\n",
    "            loss.backward()\n",
    "            optimizer.step()\n",
    "\n",
    "train(100)\n",
    "\n",
    "# Result\n",
    "print(f'Paramaters after training: {model.state_dict()}')"
   ]
  },
  {
   "cell_type": "code",
   "execution_count": 2,
   "metadata": {
    "tags": []
   },
   "outputs": [
    {
     "data": {
      "text/plain": [
       "tensor([[-3.9742],\n",
       "        [-3.4992],\n",
       "        [-2.9282],\n",
       "        [-2.4567],\n",
       "        [-1.9325],\n",
       "        [-1.4430],\n",
       "        [-0.9416],\n",
       "        [-0.4157],\n",
       "        [ 0.0853],\n",
       "        [ 0.5128],\n",
       "        [ 1.0683],\n",
       "        [ 1.5500],\n",
       "        [ 2.0359],\n",
       "        [ 2.5210],\n",
       "        [ 3.0117],\n",
       "        [ 3.5827],\n",
       "        [ 4.0273],\n",
       "        [ 4.5485],\n",
       "        [ 5.0666],\n",
       "        [ 5.5578]])"
      ]
     },
     "execution_count": 2,
     "metadata": {},
     "output_type": "execute_result"
    }
   ],
   "source": [
    "data.y"
   ]
  },
  {
   "cell_type": "code",
   "execution_count": null,
   "metadata": {},
   "outputs": [],
   "source": []
  }
 ],
 "metadata": {
  "kernelspec": {
   "display_name": "Python 3 (ipykernel)",
   "language": "python",
   "name": "python3"
  },
  "language_info": {
   "codemirror_mode": {
    "name": "ipython",
    "version": 3
   },
   "file_extension": ".py",
   "mimetype": "text/x-python",
   "name": "python",
   "nbconvert_exporter": "python",
   "pygments_lexer": "ipython3",
   "version": "3.10.6"
  }
 },
 "nbformat": 4,
 "nbformat_minor": 4
}
