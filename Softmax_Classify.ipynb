{
 "cells": [
  {
   "cell_type": "code",
   "execution_count": 3,
   "metadata": {
    "canvas": {
     "comments": [],
     "componentType": "CodeCell",
     "copiedOriginId": null,
     "diskcache": false,
     "headerColor": "transparent",
     "id": "f7fb163a-ea1b-476c-a5c8-0cd4b4f45905",
     "isComponent": false,
     "name": "",
     "parents": []
    },
    "tags": []
   },
   "outputs": [
    {
     "data": {
      "text/plain": [
       "<torch._C.Generator at 0x7f9bb9772670>"
      ]
     },
     "execution_count": 3,
     "metadata": {},
     "output_type": "execute_result"
    }
   ],
   "source": [
    "import torch\n",
    "from torch.utils.data import Dataset, DataLoader\n",
    "from torch import nn, optim\n",
    "import matplotlib.pyplot as plt\n",
    "import numpy as np\n",
    "\n",
    "torch.manual_seed(0)"
   ]
  },
  {
   "cell_type": "markdown",
   "metadata": {
    "canvas": {
     "comments": [],
     "componentType": "CodeCell",
     "copiedOriginId": null,
     "diskcache": false,
     "headerColor": "transparent",
     "id": "e9f70ad6-4131-4433-a23c-9765ca959782",
     "isComponent": false,
     "name": "",
     "parents": []
    },
    "tags": []
   },
   "source": [
    "## Tạo class Dataset và Module \n",
    " **Chý ý**: \n",
    " + Để triên khai Logistic Regression sử dụng hàm Softmax, thì mình chỉ cần viết như Linear Regression rồi dùng hàm Loss là hàm nn.CrossEntropyLoss( ). vì trong hàm build-in này sẽ tự thêm hàm tác động Softmax vào kết quả và sử dụng công thức CrossEntropy để tính lỗi. \n",
    " + Khi dùng hàm CrossEntropyLoss() thì phải để danh sách nhãn dạng 1D Tensor. Khác mới hàm MSELoss() có thể dùng Tensor 2D. \n",
    " + Khi dùng hàm CrossEntropyLoss() thì danh sách nhãn phải là kiểu Long (số nguyên) vì nhãn ko thể được mã hóa bởi 1 số thập phân\n",
    " "
   ]
  },
  {
   "cell_type": "code",
   "execution_count": 4,
   "metadata": {
    "canvas": {
     "comments": [],
     "componentType": "CodeCell",
     "copiedOriginId": null,
     "diskcache": false,
     "headerColor": "transparent",
     "id": "fac35f20-92c1-434d-88ad-ab420e4d9df2",
     "isComponent": false,
     "name": "",
     "parents": []
    },
    "tags": []
   },
   "outputs": [],
   "source": [
    "# Create Dataset\n",
    "class Data(Dataset):\n",
    "    def __init__(self):\n",
    "        self.x = torch.arange(-2, 2, 0.1).view(-1, 1)     # để đầu vào là 1 matran để tính toán song song cho nhiều sample \n",
    "        self.y = torch.zeros(self.x.shape[0]).view(-1, 1)\n",
    "        for i,v in enumerate(self.x[:,0]):\n",
    "            if v>=-1 and v<1: self.y[i,0] = 1\n",
    "            elif v >= 1: self.y[i] = 2\n",
    "        self.y = self.y.type(torch.LongTensor)           # đổi thành Long vì là nhãn\n",
    "        \n",
    "    def __getitem__(self, index):\n",
    "        return self.x[index, :], self.y[index, :]\n",
    "    \n",
    "    def __len__(self):\n",
    "        return self.x.shape[0]\n",
    "\n",
    "# Create Module\n",
    "class Softmax_Regression(nn.Module):\n",
    "    def __init__(self, input_size, output_size):\n",
    "        super(Softmax_Regression, self).__init__()\n",
    "        self.linear = nn.Linear(input_size, output_size)\n",
    "        \n",
    "    def forward(self, x):\n",
    "        yhat = self.linear(x)\n",
    "        return yhat\n",
    "    \n",
    "criterion = nn.CrossEntropyLoss()"
   ]
  },
  {
   "cell_type": "markdown",
   "metadata": {
    "canvas": {
     "comments": [],
     "componentType": "CodeCell",
     "copiedOriginId": null,
     "diskcache": false,
     "headerColor": "transparent",
     "id": "e72228ad-833f-40ac-a331-20d9000084dd",
     "isComponent": false,
     "name": "",
     "parents": []
    },
    "tags": []
   },
   "source": [
    "## Tạo Data và Module, DataLoader và Optimazer"
   ]
  },
  {
   "cell_type": "code",
   "execution_count": 5,
   "metadata": {
    "canvas": {
     "comments": [],
     "componentType": "CodeCell",
     "copiedOriginId": null,
     "diskcache": false,
     "headerColor": "transparent",
     "id": "1fe2e708-9465-4100-9c04-f5877760d3b2",
     "isComponent": false,
     "name": "",
     "parents": []
    },
    "tags": []
   },
   "outputs": [],
   "source": [
    "data = Data()\n",
    "output_size = set()\n",
    "for i in data[:][1]:\n",
    "    output_size.add(i.item())    \n",
    "model = Softmax_Regression(data.x.shape[1], len(output_size))\n",
    "trainloader = DataLoader(dataset=data, batch_size=5)\n",
    "optimizer = optim.SGD(model.parameters(), lr= 0.001)"
   ]
  },
  {
   "cell_type": "markdown",
   "metadata": {
    "canvas": {
     "comments": [],
     "componentType": "CodeCell",
     "copiedOriginId": null,
     "diskcache": false,
     "headerColor": "transparent",
     "id": "d2d13cc0-b469-4816-a8e9-ef00079ac175",
     "isComponent": false,
     "name": "",
     "parents": []
    },
    "tags": []
   },
   "source": [
    "## Chọn bộ trọng số khởi đầu w, bias"
   ]
  },
  {
   "cell_type": "code",
   "execution_count": 6,
   "metadata": {
    "canvas": {
     "comments": [],
     "componentType": "CodeCell",
     "copiedOriginId": null,
     "diskcache": false,
     "headerColor": "transparent",
     "id": "9bcc32fa-4103-49d0-bb6d-28a9a03924ea",
     "isComponent": false,
     "name": "",
     "parents": []
    },
    "tags": []
   },
   "outputs": [],
   "source": [
    "w_start = torch.tensor([1., 1., 2.]).view(-1,1)\n",
    "bias_start = torch.tensor([1., 1., 1.])\n",
    "# print(model.state_dict())   # print w,b xem tên của tham số là gì. Ở đây là 'linear.weight' và 'linear.bias'\n",
    "model.state_dict()['linear.weight'][:] = w_start\n",
    "model.state_dict()['linear.bias'][:] = bias_start"
   ]
  },
  {
   "cell_type": "code",
   "execution_count": 7,
   "metadata": {
    "canvas": {
     "comments": [],
     "componentType": "CodeCell",
     "copiedOriginId": null,
     "diskcache": false,
     "headerColor": "transparent",
     "id": "166a1302-1e9a-40a8-a6b0-f074d5d0972a",
     "isComponent": false,
     "name": "",
     "parents": []
    },
    "tags": []
   },
   "outputs": [
    {
     "data": {
      "text/plain": [
       "'torch.LongTensor'"
      ]
     },
     "execution_count": 7,
     "metadata": {},
     "output_type": "execute_result"
    }
   ],
   "source": [
    "data[:][1].type()"
   ]
  },
  {
   "cell_type": "markdown",
   "metadata": {
    "canvas": {
     "comments": [],
     "componentType": "CodeCell",
     "copiedOriginId": null,
     "diskcache": false,
     "headerColor": "transparent",
     "id": "2a0a734c-b147-418d-9565-be4f27a0c1b9",
     "isComponent": false,
     "name": "",
     "parents": []
    },
    "tags": []
   },
   "source": [
    "## Training"
   ]
  },
  {
   "cell_type": "code",
   "execution_count": 8,
   "metadata": {
    "canvas": {
     "comments": [],
     "componentType": "CodeCell",
     "copiedOriginId": null,
     "diskcache": false,
     "headerColor": "transparent",
     "id": "8e9cb105-8347-44bb-aee6-2f740c9134d3",
     "isComponent": false,
     "name": "",
     "parents": []
    },
    "tags": []
   },
   "outputs": [],
   "source": [
    "COST = []\n",
    "def training(epochs):\n",
    "    for epoch in range(epochs):\n",
    "        yhat = model(data.x)\n",
    "        COST.append(criterion(yhat, data.y.view(-1)).tolist()) # lưu lỗi mắc phải với w hiện tại để vẽ thị\n",
    "        for x,y in trainloader:\n",
    "            yhat = model(x)\n",
    "            loss = criterion(yhat, y.view(-1))    # đổi từ 2D sang 1D vì hàm build-in CrossEntropyLoss() yêu cầu \n",
    "            optimizer.zero_grad()     # cho w.grad và bias.grad về 0 để nó không bị dồn các delta w,bias\n",
    "            loss.backward()\n",
    "            optimizer.step()    # cập nhập w, bias           "
   ]
  },
  {
   "cell_type": "code",
   "execution_count": 9,
   "metadata": {
    "canvas": {
     "comments": [],
     "componentType": "CodeCell",
     "copiedOriginId": null,
     "diskcache": false,
     "headerColor": "transparent",
     "id": "0adce510-f464-4689-b26d-8d59a4fdc8b3",
     "isComponent": false,
     "name": "",
     "parents": []
    },
    "tags": []
   },
   "outputs": [],
   "source": [
    "training(2000)"
   ]
  },
  {
   "cell_type": "code",
   "execution_count": 10,
   "metadata": {
    "canvas": {
     "comments": [],
     "componentType": "CodeCell",
     "copiedOriginId": null,
     "diskcache": false,
     "headerColor": "transparent",
     "id": "90fe7956-10de-44b5-b7c6-e3070490dbb1",
     "isComponent": false,
     "name": "",
     "parents": []
    },
    "tags": []
   },
   "outputs": [
    {
     "name": "stdout",
     "output_type": "stream",
     "text": [
      "Kết quả là: \n",
      " OrderedDict([('linear.weight', tensor([[-0.5447],\n",
      "        [ 1.2876],\n",
      "        [ 3.2572]])), ('linear.bias', tensor([0.3811, 2.2042, 0.4148]))])\n"
     ]
    }
   ],
   "source": [
    "print( f'Kết quả là: \\n {model.state_dict()}')"
   ]
  },
  {
   "cell_type": "markdown",
   "metadata": {
    "canvas": {
     "comments": [],
     "componentType": "CodeCell",
     "copiedOriginId": null,
     "diskcache": false,
     "headerColor": "transparent",
     "id": "1546e01a-54fc-4229-a989-65132c022775",
     "isComponent": false,
     "name": "",
     "parents": []
    },
    "tags": []
   },
   "source": [
    "## Vẽ biểu đồ\n",
    "+ Softmax Regression thực hiện tìm bộ trọng số w cho từng nhãn. Sample nào ứng với bọ trọng số có giá trị lớn nhất thì là nhãn đó\n",
    "+ Đầu vào cần các sample và bộ trọng số (w, b)"
   ]
  },
  {
   "cell_type": "code",
   "execution_count": 21,
   "metadata": {
    "canvas": {
     "comments": [],
     "componentType": "CodeCell",
     "copiedOriginId": null,
     "diskcache": false,
     "headerColor": "transparent",
     "id": "d49b4c10-57ec-48ac-9ac4-c43e96ae1470",
     "isComponent": false,
     "name": "",
     "parents": []
    },
    "tags": []
   },
   "outputs": [],
   "source": [
    "def plot_data(data_set, model=None):\n",
    "    # ve data\n",
    "    x = data_set[:][0]\n",
    "    y = data_set[:][1]\n",
    "    plt.plot(x[y[:,0]==0,:].numpy(), 0 * y[y[:,0]==0,:].numpy(), 'bo', label='y = 0')\n",
    "    plt.plot(x[y[:,0]==1,:].numpy(), 0 * y[y[:,0]==1,:].numpy(), 'ro', label='y = 1')\n",
    "    plt.plot(x[y[:,0]==2,:].numpy(), 0 * y[y[:,0]==2,:].numpy(), 'go', label='y = 2')\n",
    "    plt.ylim(-0.5, 10)\n",
    "    plt.xlim(-2, 2)\n",
    "    plt.xlabel('Sample')\n",
    "    plt.legend()\n",
    "    \n",
    "    # ve model\n",
    "    if model != None:\n",
    "        w = model.state_dict()['linear.weight'][:].detach().numpy()\n",
    "        b = model.state_dict()['linear.bias'][:].detach().numpy()\n",
    "        x_ = torch.arange(-10, 10, 1)                                     # x_ để vẽ đường thẳng\n",
    "        plt.plot(x_.numpy(), x_*w[0] + b[0], color='blue')\n",
    "        plt.plot(x_.numpy(), x_*w[1] + b[1], color='red')\n",
    "        plt.plot(x_.numpy(), x_*w[2] + b[2], color='green')\n",
    "    \n",
    "    plt.show()\n",
    "    "
   ]
  },
  {
   "cell_type": "code",
   "execution_count": 22,
   "metadata": {
    "canvas": {
     "comments": [],
     "componentType": "CodeCell",
     "copiedOriginId": null,
     "diskcache": false,
     "headerColor": "transparent",
     "id": "340be7af-e498-458e-b3bf-ef6ece1a7437",
     "isComponent": false,
     "name": "",
     "parents": []
    },
    "tags": []
   },
   "outputs": [
    {
     "data": {
      "image/png": "[encoded data removed]",
      "text/plain": [
       "<Figure size 640x480 with 1 Axes>"
      ]
     },
     "metadata": {},
     "output_type": "display_data"
    },
    {
     "data": {
      "image/png": "[encoded data removed]",
      "text/plain": [
       "<Figure size 640x480 with 1 Axes>"
      ]
     },
     "metadata": {},
     "output_type": "display_data"
    }
   ],
   "source": [
    "plot_data(data, model)\n",
    "plt.plot(range(0,2000), COST)\n",
    "plt.ylabel('COST')\n",
    "plt.xlabel('Epoch')\n",
    "plt.show()"
   ]
  },
  {
   "cell_type": "code",
   "execution_count": null,
   "metadata": {
    "canvas": {
     "comments": [],
     "componentType": "CodeCell",
     "copiedOriginId": null,
     "diskcache": false,
     "headerColor": "transparent",
     "id": "ea82c9ea-fd4a-429c-92fa-21762a9c268a",
     "isComponent": false,
     "name": "",
     "parents": []
    }
   },
   "outputs": [],
   "source": []
  }
 ],
 "metadata": {
  "canvas": {
   "colorPalette": [
    "inherit",
    "inherit",
    "inherit",
    "inherit",
    "inherit",
    "inherit",
    "inherit",
    "inherit",
    "inherit",
    "inherit"
   ],
   "parameters": [],
   "version": "1.0"
  },
  "kernelspec": {
   "display_name": "Python 3 (ipykernel)",
   "language": "python",
   "name": "python3"
  },
  "language_info": {
   "codemirror_mode": {
    "name": "ipython",
    "version": 3
   },
   "file_extension": ".py",
   "mimetype": "text/x-python",
   "name": "python",
   "nbconvert_exporter": "python",
   "pygments_lexer": "ipython3",
   "version": "3.10.6"
  },
  "toc-autonumbering": false,
  "toc-showcode": false,
  "toc-showmarkdowntxt": false,
  "toc-showtags": false
 },
 "nbformat": 4,
 "nbformat_minor": 4
}
