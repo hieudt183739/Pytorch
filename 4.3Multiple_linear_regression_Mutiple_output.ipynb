{
 "cells": [
  {
   "cell_type": "code",
   "execution_count": 56,
   "metadata": {},
   "outputs": [
    {
     "name": "stdout",
     "output_type": "stream",
     "text": [
      "Paramaters befor training: OrderedDict([('linear.weight', tensor([[0.4495, 0.2370],\n",
      "        [0.0775, 0.1835]])), ('linear.bias', tensor([-0.3972,  0.6635]))])\n",
      "Paramaters after training: OrderedDict([('linear.weight', tensor([[1.2760, 1.8900],\n",
      "        [1.5887, 3.2059]])), ('linear.bias', tensor([1.0060, 1.9800]))])\n"
     ]
    }
   ],
   "source": [
    "'''\n",
    "Equantion: Y = XW + B\n",
    "'''\n",
    "\n",
    "import torch\n",
    "from torch import nn, optim\n",
    "from torch.utils.data import DataLoader, Dataset\n",
    "\n",
    "# Create Dataset\n",
    "class Data(Dataset):\n",
    "    \n",
    "    def __init__(self):\n",
    "        self.X = torch.zeros(20, 2)\n",
    "        self.X[:,0] = torch.arange(-1, 1, 0.1)\n",
    "        self.X[:,1] = torch.arange(-2, 2, 0.2)\n",
    "        self.W = torch.zeros(2, 2)\n",
    "        self.W[:,0] = torch.tensor([1, 2])\n",
    "        self.W[:,1] = torch.tensor([2, 3])\n",
    "        self.B = torch.tensor([1, 2]).view(1, 2)\n",
    "        self.Y = torch.mm(self.X, self.W) + self.B + 0.1 * torch.randn(self.X.shape[0], 2)  \n",
    "        \n",
    "    def __getitem__(self, index):\n",
    "        return self.X[index,:], self.Y[index,:]\n",
    "    \n",
    "    def __len__(self):\n",
    "        return self.X.shape[0]\n",
    "\n",
    "# Create Multiple LR with Mutiple Output\n",
    "class LR(nn.Module):\n",
    "    \n",
    "    def __init__(self, input_size, output_size):\n",
    "        super(LR, self).__init__()\n",
    "        self.linear = nn.Linear(input_size, output_size)\n",
    "    \n",
    "    def forward(self, X):\n",
    "        Yhat = self.linear(X)\n",
    "        return Yhat\n",
    "    \n",
    "criteration = nn.MSELoss()\n",
    "\n",
    "# Create Components\n",
    "data = Data()\n",
    "model = LR(2, 2)\n",
    "\n",
    "print(f'Paramaters befor training: {model.state_dict()}')  \n",
    "  \n",
    "# Choose W update Method\n",
    "optimizer = optim.SGD(model.parameters(), lr=0.01)\n",
    "\n",
    "# Create DataLoader\n",
    "trainloader = DataLoader(dataset=data, batch_size=2)\n",
    "\n",
    "# Train\n",
    "def train(epochs):\n",
    "    for epoch in range(epochs):\n",
    "        for X,Y in trainloader:\n",
    "            Yhat = model(X)\n",
    "            loss = criteration(Yhat, Y)\n",
    "            optimizer.zero_grad()\n",
    "            loss.backward()\n",
    "            optimizer.step()\n",
    "\n",
    "train(100)\n",
    "\n",
    "# Result\n",
    "print(f'Paramaters after training: {model.state_dict()}')"
   ]
  },
  {
   "cell_type": "code",
   "execution_count": null,
   "metadata": {},
   "outputs": [],
   "source": []
  }
 ],
 "metadata": {
  "kernelspec": {
   "display_name": "Python 3 (ipykernel)",
   "language": "python",
   "name": "python3"
  },
  "language_info": {
   "codemirror_mode": {
    "name": "ipython",
    "version": 3
   },
   "file_extension": ".py",
   "mimetype": "text/x-python",
   "name": "python",
   "nbconvert_exporter": "python",
   "pygments_lexer": "ipython3",
   "version": "3.10.6"
  }
 },
 "nbformat": 4,
 "nbformat_minor": 4
}
