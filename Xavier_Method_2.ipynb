{
  "cells": [
    {
      "cell_type": "markdown",
      "source": [
        "The Experiment for **Tanh** Function using three different weight nitialization methods.\n",
        "+ Uniform\n",
        "+ Default\n",
        "+ Xavier"
      ],
      "metadata": {
        "id": "RcRhsd0HAPQx"
      },
      "id": "RcRhsd0HAPQx"
    },
    {
      "cell_type": "code",
      "execution_count": 1,
      "id": "a0421182-232b-4bce-a805-87729b4c5890",
      "metadata": {
        "colab": {
          "base_uri": "https://localhost:8080/"
        },
        "id": "a0421182-232b-4bce-a805-87729b4c5890",
        "outputId": "f2c7b83b-020c-4bf1-c26c-4f224157d69d"
      },
      "outputs": [
        {
          "output_type": "execute_result",
          "data": {
            "text/plain": [
              "<torch._C.Generator at 0x7f8f1c1c0d10>"
            ]
          },
          "metadata": {},
          "execution_count": 1
        }
      ],
      "source": [
        "import torch\n",
        "from torch import nn, optim\n",
        "from torch.utils.data import Dataset, DataLoader\n",
        "import torchvision.datasets as dataset\n",
        "import torchvision.transforms as transforms\n",
        "import matplotlib.pyplot as plt\n",
        "import numpy as np\n",
        "torch.manual_seed(2)"
      ]
    },
    {
      "cell_type": "code",
      "execution_count": 2,
      "id": "63f174d0-58f8-4568-b028-1964f39ec212",
      "metadata": {
        "colab": {
          "base_uri": "https://localhost:8080/"
        },
        "id": "63f174d0-58f8-4568-b028-1964f39ec212",
        "outputId": "c10f7c77-734b-4904-f26a-6ea5b2910724"
      },
      "outputs": [
        {
          "output_type": "stream",
          "name": "stdout",
          "text": [
            "Downloading http://yann.lecun.com/exdb/mnist/train-images-idx3-ubyte.gz\n",
            "Downloading http://yann.lecun.com/exdb/mnist/train-images-idx3-ubyte.gz to ./data/MNIST/raw/train-images-idx3-ubyte.gz\n"
          ]
        },
        {
          "output_type": "stream",
          "name": "stderr",
          "text": [
            "100%|██████████| 9912422/9912422 [00:00<00:00, 304412245.43it/s]"
          ]
        },
        {
          "output_type": "stream",
          "name": "stdout",
          "text": [
            "Extracting ./data/MNIST/raw/train-images-idx3-ubyte.gz to ./data/MNIST/raw\n"
          ]
        },
        {
          "output_type": "stream",
          "name": "stderr",
          "text": [
            "\n"
          ]
        },
        {
          "output_type": "stream",
          "name": "stdout",
          "text": [
            "\n",
            "Downloading http://yann.lecun.com/exdb/mnist/train-labels-idx1-ubyte.gz\n",
            "Downloading http://yann.lecun.com/exdb/mnist/train-labels-idx1-ubyte.gz to ./data/MNIST/raw/train-labels-idx1-ubyte.gz\n"
          ]
        },
        {
          "output_type": "stream",
          "name": "stderr",
          "text": [
            "100%|██████████| 28881/28881 [00:00<00:00, 105518897.06it/s]\n"
          ]
        },
        {
          "output_type": "stream",
          "name": "stdout",
          "text": [
            "Extracting ./data/MNIST/raw/train-labels-idx1-ubyte.gz to ./data/MNIST/raw\n",
            "\n",
            "Downloading http://yann.lecun.com/exdb/mnist/t10k-images-idx3-ubyte.gz\n",
            "Downloading http://yann.lecun.com/exdb/mnist/t10k-images-idx3-ubyte.gz to ./data/MNIST/raw/t10k-images-idx3-ubyte.gz\n"
          ]
        },
        {
          "output_type": "stream",
          "name": "stderr",
          "text": [
            "100%|██████████| 1648877/1648877 [00:00<00:00, 170834458.82it/s]"
          ]
        },
        {
          "output_type": "stream",
          "name": "stdout",
          "text": [
            "Extracting ./data/MNIST/raw/t10k-images-idx3-ubyte.gz to ./data/MNIST/raw\n",
            "\n",
            "Downloading http://yann.lecun.com/exdb/mnist/t10k-labels-idx1-ubyte.gz\n",
            "Downloading http://yann.lecun.com/exdb/mnist/t10k-labels-idx1-ubyte.gz to ./data/MNIST/raw/t10k-labels-idx1-ubyte.gz\n"
          ]
        },
        {
          "output_type": "stream",
          "name": "stderr",
          "text": [
            "\n",
            "100%|██████████| 4542/4542 [00:00<00:00, 18143360.73it/s]\n"
          ]
        },
        {
          "output_type": "stream",
          "name": "stdout",
          "text": [
            "Extracting ./data/MNIST/raw/t10k-labels-idx1-ubyte.gz to ./data/MNIST/raw\n",
            "\n"
          ]
        }
      ],
      "source": [
        "# Create Dataset\n",
        "train_dataset = dataset.MNIST(root='./data', train=True, download=True, transform=transforms.ToTensor())\n",
        "valid_dataset = dataset.MNIST(root='./data', download=True, transform=transforms.ToTensor())"
      ]
    },
    {
      "cell_type": "code",
      "execution_count": 24,
      "id": "46f2ce7a-2a21-4c14-bde2-133558301c38",
      "metadata": {
        "id": "46f2ce7a-2a21-4c14-bde2-133558301c38"
      },
      "outputs": [],
      "source": [
        "# Xavier Uniform Method\n",
        "class Net_Tanh_Xavier(nn.Module):\n",
        "    def __init__(self, Layers):\n",
        "        super(Net_Tanh_Xavier, self).__init__()\n",
        "        self.hidden = nn.ModuleList()     # ModuleList có chức năng chứa các Linear Object\n",
        "        for input_dim, output_dim in zip(Layers, Layers[1:]):\n",
        "            linear = nn.Linear(input_dim, output_dim)\n",
        "            nn.init.xavier_uniform(linear.weight)\n",
        "            self.hidden.append(linear)\n",
        "\n",
        "    def forward(self, x):\n",
        "        L = len(self.hidden)\n",
        "        for i,linear in zip(range(L), self.hidden):\n",
        "            if i < L - 1:\n",
        "                x = torch.tanh(linear(x))\n",
        "            else:\n",
        "                x = linear(x)\n",
        "        return x"
      ]
    },
    {
      "cell_type": "code",
      "execution_count": 13,
      "id": "371db25b-7d6a-47b4-b6a8-3300a8e7e860",
      "metadata": {
        "id": "371db25b-7d6a-47b4-b6a8-3300a8e7e860"
      },
      "outputs": [],
      "source": [
        "# Defaul Method\n",
        "class Net_Tanh_Defaul(nn.Module):\n",
        "    def __init__(self, Layers):\n",
        "        super(Net_Tanh_Defaul, self).__init__()\n",
        "        self.hidden = nn.ModuleList()\n",
        "        for input_dim,output_dim in zip(Layers, Layers[1:]):\n",
        "            linear = nn.Linear(input_dim, output_dim)\n",
        "            self.hidden.append(linear)\n",
        "\n",
        "    def forward(self, x):\n",
        "        L = len(self.hidden)\n",
        "        for i,linear in zip(range(L), self.hidden):\n",
        "            if i < L-1:\n",
        "                x = torch.tanh(linear(x))\n",
        "            else:\n",
        "                x = linear(x)\n",
        "        return x"
      ]
    },
    {
      "cell_type": "markdown",
      "id": "fef5083d-d2b5-44ed-9b8e-f7d7b0761923",
      "metadata": {
        "id": "fef5083d-d2b5-44ed-9b8e-f7d7b0761923"
      },
      "source": [
        "sử dụng hàm linear.weight.data.uniform_ tạo ngẫu nhiên giá trị w trong khoảng cho trước, có thể sử dụng tham số 'state_dict()' để truyền tham số nhưng nếu làm\n",
        "vậy thì sẽ phải tính đầu truyền vào đầy đủ 1 ma trận là tất cả các w của các neural. Chỉ lên dùng 'state_dict' để xem tham số hoặc với các mạng 1 tầng ẩn thôi."
      ]
    },
    {
      "cell_type": "code",
      "execution_count": 23,
      "id": "d585ffd6-341c-4bb3-99fc-6489b89ac08d",
      "metadata": {
        "id": "d585ffd6-341c-4bb3-99fc-6489b89ac08d"
      },
      "outputs": [],
      "source": [
        "# Tạo ngẫu nhiên bộ trọng số trong khoảng (0,1)\n",
        "class Net_Tanh_Uniform(nn.Module):\n",
        "    def __init__(self, Layers):\n",
        "        super(Net_Tanh_Uniform, self).__init__()\n",
        "        self.hidden = nn.ModuleList()\n",
        "        for input_dim,output_dim in zip(Layers, Layers[1:]):\n",
        "            linear = nn.Linear(input_dim, output_dim)\n",
        "            linear.weight.data.uniform_(0, 1)  # Tạo ngẫu nhiên w trong khoảng (0,1).\n",
        "            self.hidden.append(linear)\n",
        "\n",
        "    def forward(self, x):\n",
        "        L = len(self.hidden)\n",
        "        for i,linear in zip(range(L), self.hidden):\n",
        "            if i < L-1:\n",
        "                x = torch.tanh(linear(x))\n",
        "            else:\n",
        "                x = linear(x)\n",
        "        return x"
      ]
    },
    {
      "cell_type": "code",
      "execution_count": 6,
      "id": "14063d64-d1ff-4304-acc3-a399b41cdbae",
      "metadata": {
        "id": "14063d64-d1ff-4304-acc3-a399b41cdbae"
      },
      "outputs": [],
      "source": [
        "trainloader = DataLoader(dataset=train_dataset, batch_size=2000, shuffle=True)\n",
        "validloader = DataLoader(dataset=valid_dataset, batch_size=5000, shuffle=False)"
      ]
    },
    {
      "cell_type": "code",
      "execution_count": 7,
      "id": "8e258026-c7a6-4b4b-8a8f-c380c1761b96",
      "metadata": {
        "id": "8e258026-c7a6-4b4b-8a8f-c380c1761b96"
      },
      "outputs": [],
      "source": [
        "criterion = nn.CrossEntropyLoss()"
      ]
    },
    {
      "cell_type": "code",
      "execution_count": 19,
      "id": "cb85c1af-e546-4cce-94f6-0f03c68b2747",
      "metadata": {
        "id": "cb85c1af-e546-4cce-94f6-0f03c68b2747"
      },
      "outputs": [],
      "source": [
        "ACC = {'Xavier': [], 'Default': [], 'Uniform': []}\n",
        "COST = {'Xavier': [], 'Default': [], 'Uniform': []}\n",
        "\n",
        "def training(model, optimizer, epochs, method_name):\n",
        "    for epoch in range(epochs):\n",
        "        total_loss = 0\n",
        "        for x,y in trainloader:\n",
        "            yhat = model(x.view(-1, 28*28))\n",
        "            loss = criterion(yhat, y)\n",
        "            optimizer.zero_grad()\n",
        "            loss.backward()\n",
        "            optimizer.step()\n",
        "            total_loss += loss.item()\n",
        "\n",
        "        COST[method_name].append(total_loss)\n",
        "\n",
        "        correct = 0\n",
        "        for x,y in validloader:\n",
        "          yhat = model(x.view(-1, 28*28))\n",
        "          _,label = torch.max(yhat, 1)\n",
        "          correct += (label==y).sum().item()\n",
        "        accuracy = 100 * correct/ len(valid_dataset)\n",
        "        ACC[method_name].append(accuracy)"
      ]
    },
    {
      "cell_type": "code",
      "execution_count": 9,
      "id": "06d4d732-0fec-4525-93ae-6a3079171a48",
      "metadata": {
        "id": "06d4d732-0fec-4525-93ae-6a3079171a48"
      },
      "outputs": [],
      "source": [
        "learning_rate = 0.01\n",
        "epochs = 10\n",
        "input_dim = 28*28\n",
        "output_dim = 10\n",
        "Layers = [input_dim, 100, 100, 100, output_dim]"
      ]
    },
    {
      "cell_type": "code",
      "execution_count": 20,
      "id": "ccbb3a13-e990-4b1d-86ef-b78781b92f19",
      "metadata": {
        "tags": [],
        "id": "ccbb3a13-e990-4b1d-86ef-b78781b92f19"
      },
      "outputs": [],
      "source": [
        "model_default = Net_Tanh_Defaul(Layers)\n",
        "optimizer_default = optim.SGD(model_default.parameters(), lr=learning_rate)\n",
        "training(model_default, optimizer_default, epochs, method_name='Default')"
      ]
    },
    {
      "cell_type": "code",
      "execution_count": 25,
      "id": "0e4229a6-d2dc-4271-97b6-9909a1a67ee5",
      "metadata": {
        "id": "0e4229a6-d2dc-4271-97b6-9909a1a67ee5"
      },
      "outputs": [],
      "source": [
        "model_uniform = Net_Tanh_Uniform(Layers)\n",
        "optimizer_uniform = optim.SGD(model_uniform.parameters(), lr=learning_rate)\n",
        "training(model_uniform, optimizer_uniform, epochs, method_name='Uniform')"
      ]
    },
    {
      "cell_type": "code",
      "execution_count": 26,
      "id": "7d66d5a3-15b3-498c-87c9-bffd794c7687",
      "metadata": {
        "colab": {
          "base_uri": "https://localhost:8080/"
        },
        "id": "7d66d5a3-15b3-498c-87c9-bffd794c7687",
        "outputId": "83e5413c-ad08-4b86-a044-a530eaeb8c08"
      },
      "outputs": [
        {
          "output_type": "stream",
          "name": "stderr",
          "text": [
            "<ipython-input-24-2bcaa8f89924>:8: UserWarning: nn.init.xavier_uniform is now deprecated in favor of nn.init.xavier_uniform_.\n",
            "  nn.init.xavier_uniform(linear.weight)\n"
          ]
        }
      ],
      "source": [
        "model_xavier = Net_Tanh_Xavier(Layers)\n",
        "optimizer_xavier = optim.SGD(model_xavier.parameters(), lr=learning_rate)\n",
        "training(model_xavier, optimizer_xavier, epochs, method_name='Xavier')"
      ]
    },
    {
      "cell_type": "code",
      "execution_count": 34,
      "id": "e6748c65-67f7-4e86-864c-6cd5b100fb1d",
      "metadata": {
        "colab": {
          "base_uri": "https://localhost:8080/",
          "height": 881
        },
        "id": "e6748c65-67f7-4e86-864c-6cd5b100fb1d",
        "outputId": "517072c2-cd96-4c7d-f726-8d6bbb052401"
      },
      "outputs": [
        {
          "output_type": "display_data",
          "data": {
            "text/plain": [
              "<Figure size 640x480 with 1 Axes>"
            ],
            "image/png": "[encoded data removed]"
          },
          "metadata": {}
        },
        {
          "output_type": "display_data",
          "data": {
            "text/plain": [
              "<Figure size 640x480 with 1 Axes>"
            ],
            "image/png": "[encoded data removed]"
          },
          "metadata": {}
        }
      ],
      "source": [
        "# Compare result\n",
        "plt.plot(COST['Default'], label='Default', color='red')\n",
        "plt.plot(COST['Uniform'], label='Uniform', color='green')\n",
        "plt.plot(COST['Xavier'], label='Xavier', color='blue')\n",
        "plt.xlabel('Epoch')\n",
        "plt.ylabel('COST')\n",
        "plt.legend()\n",
        "plt.show()\n",
        "\n",
        "plt.plot(ACC['Default'], label='Default', color='red')\n",
        "plt.plot(ACC['Uniform'], label='Uniform', color='green')\n",
        "plt.plot(ACC['Xavier'], label='Xavier', color='blue')\n",
        "plt.xlabel('Epoch')\n",
        "plt.ylabel('Accuracy')\n",
        "plt.legend()\n",
        "plt.show()"
      ]
    },
    {
      "cell_type": "markdown",
      "source": [
        "**Nhận xét**: Xavier cao nhất, đến Default, còn tự tạo thì rất tệ\n",
        "\n"
      ],
      "metadata": {
        "id": "cCBuqISDB7y3"
      },
      "id": "cCBuqISDB7y3"
    },
    {
      "cell_type": "code",
      "source": [],
      "metadata": {
        "id": "pUrRl0ZhCHge"
      },
      "id": "pUrRl0ZhCHge",
      "execution_count": null,
      "outputs": []
    }
  ],
  "metadata": {
    "kernelspec": {
      "display_name": "Python 3 (ipykernel)",
      "language": "python",
      "name": "python3"
    },
    "language_info": {
      "codemirror_mode": {
        "name": "ipython",
        "version": 3
      },
      "file_extension": ".py",
      "mimetype": "text/x-python",
      "name": "python",
      "nbconvert_exporter": "python",
      "pygments_lexer": "ipython3",
      "version": "3.10.6"
    },
    "colab": {
      "provenance": []
    }
  },
  "nbformat": 4,
  "nbformat_minor": 5
}