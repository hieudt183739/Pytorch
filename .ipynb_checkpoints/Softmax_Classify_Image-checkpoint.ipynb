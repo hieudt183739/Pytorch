{
 "cells": [
  {
   "cell_type": "code",
   "execution_count": 90,
   "id": "e7c5bfaa-ccf7-48d4-a350-8bf7f36da53e",
   "metadata": {
    "canvas": {
     "comments": [],
     "componentType": "CodeCell",
     "copiedOriginId": null,
     "diskcache": true,
     "headerColor": "transparent",
     "id": "a44a791d-72e0-47d3-b832-e5e07dec8b8c",
     "isComponent": true,
     "name": "Import Lib",
     "parents": []
    },
    "tags": []
   },
   "outputs": [],
   "source": [
    "import torch \n",
    "from torch import nn, optim\n",
    "from torch.utils.data import DataLoader\n",
    "import torchvision.transforms as transforms\n",
    "import torchvision.datasets as dataset\n",
    "import matplotlib.pylab as plt\n",
    "import numpy as np"
   ]
  },
  {
   "cell_type": "markdown",
   "id": "058ee693-29bc-4ec5-8d1a-b29220aae2c7",
   "metadata": {
    "canvas": {
     "comments": [],
     "componentType": "CodeCell",
     "copiedOriginId": null,
     "diskcache": false,
     "headerColor": "transparent",
     "id": "b8da8c3e-e0bc-4f85-96f0-e30935cd234a",
     "isComponent": false,
     "name": "",
     "parents": []
    }
   },
   "source": [
    "## Chuẩn bị Dataset\n",
    "+ Tập Training\n",
    "+ Tập Testing   \n",
    "\n",
    "Chuyển ảnh thành Tensor thì Tensor sẽ là 1 Tensor 3D. Ở bài toán này sử Tensor có size: (1, 28, 28). Trong đó 1 ở đây là số màu. Nếu là ảnh màu sẽ lả (3, 28, 28)"
   ]
  },
  {
   "cell_type": "code",
   "execution_count": 91,
   "id": "e074dffc-0649-420a-9291-dab814ef9e75",
   "metadata": {
    "canvas": {
     "comments": [],
     "componentType": "CodeCell",
     "copiedOriginId": null,
     "diskcache": true,
     "headerColor": "transparent",
     "id": "a821708f-c404-4997-b2ac-eb2964b08796",
     "isComponent": true,
     "name": "Prepare Dataset",
     "parents": [
      {
       "id": "a44a791d-72e0-47d3-b832-e5e07dec8b8c",
       "name": "Import Lib"
      }
     ]
    },
    "tags": []
   },
   "outputs": [],
   "source": [
    "train_dataset = dataset.MNIST(root='./data', train=True, download=True, transform=transforms.ToTensor())\n",
    "valid_dataset = dataset.MNIST(root='./data', train=False, download=True, transform=transforms.ToTensor())"
   ]
  },
  {
   "cell_type": "code",
   "execution_count": 92,
   "id": "e5505bf4-cc88-4225-965c-9744ef9a43f4",
   "metadata": {
    "canvas": {
     "comments": [],
     "componentType": "CodeCell",
     "copiedOriginId": null,
     "diskcache": false,
     "headerColor": "#FF004F",
     "id": "bc9b2a1d-dccf-4a77-bbca-c013cc8be314",
     "isComponent": false,
     "name": "",
     "parents": []
    },
    "tags": []
   },
   "outputs": [
    {
     "name": "stdout",
     "output_type": "stream",
     "text": [
      "Dataset MNIST\n",
      "    Number of datapoints: 60000\n",
      "    Root location: ./data\n",
      "    Split: Train\n",
      "    StandardTransform\n",
      "Transform: ToTensor()\n"
     ]
    }
   ],
   "source": [
    "print(train_dataset)"
   ]
  },
  {
   "cell_type": "code",
   "execution_count": 93,
   "id": "b919c451-7ff5-4732-9a39-19dc80770d7f",
   "metadata": {
    "canvas": {
     "comments": [],
     "componentType": "CodeCell",
     "copiedOriginId": null,
     "diskcache": false,
     "headerColor": "transparent",
     "id": "6fe65072-f42d-4ff5-819a-26bdd11f3018",
     "isComponent": false,
     "name": "",
     "parents": []
    },
    "tags": []
   },
   "outputs": [
    {
     "name": "stdout",
     "output_type": "stream",
     "text": [
      "torch.Size([1, 28, 28])\n"
     ]
    }
   ],
   "source": [
    "# Kiểm tra kích thước Tensor\n",
    "print(train_dataset[1][0].size())"
   ]
  },
  {
   "cell_type": "code",
   "execution_count": 94,
   "id": "62801e94-ddb1-436d-9938-c4f8d02873cc",
   "metadata": {
    "canvas": {
     "comments": [],
     "componentType": "CodeCell",
     "copiedOriginId": null,
     "diskcache": false,
     "headerColor": "transparent",
     "id": "947c42cf-d79b-4a20-b14a-cd000255c76f",
     "isComponent": false,
     "name": "",
     "parents": []
    },
    "tags": []
   },
   "outputs": [
    {
     "name": "stdout",
     "output_type": "stream",
     "text": [
      "2\n"
     ]
    }
   ],
   "source": [
    "# Kiểm tra nhãn \n",
    "print(train_dataset[5][1])"
   ]
  },
  {
   "cell_type": "markdown",
   "id": "9e61cd57-c848-465d-8830-88a2643393be",
   "metadata": {
    "canvas": {
     "comments": [],
     "componentType": "CodeCell",
     "copiedOriginId": null,
     "diskcache": false,
     "headerColor": "transparent",
     "id": "4f455cbe-299d-4441-919c-0a56dbec8993",
     "isComponent": false,
     "name": "",
     "parents": []
    }
   },
   "source": [
    "## Tạo Class Module"
   ]
  },
  {
   "cell_type": "code",
   "execution_count": 95,
   "id": "79583477-5485-4c60-b3f2-6bb388e886d8",
   "metadata": {
    "canvas": {
     "comments": [],
     "componentType": "CodeCell",
     "copiedOriginId": null,
     "diskcache": true,
     "headerColor": "transparent",
     "id": "2def13f3-ae26-4a3b-9d51-ce20449d08d1",
     "isComponent": true,
     "name": "Class Module",
     "parents": [
      {
       "id": "a821708f-c404-4997-b2ac-eb2964b08796",
       "name": "Prepare Dataset"
      }
     ]
    },
    "tags": []
   },
   "outputs": [],
   "source": [
    "class Softmax_Regression(nn.Module):\n",
    "    def __init__(self, input_size, output_size):\n",
    "        super(Softmax_Regression, self).__init__()\n",
    "        self.linear = nn.Linear(input_size, output_size)\n",
    "        \n",
    "    def forward(self, x):\n",
    "        yhat = self.linear(x)\n",
    "        return yhat\n",
    "\n",
    "criterion = nn.CrossEntropyLoss()"
   ]
  },
  {
   "cell_type": "markdown",
   "id": "f9b27379-2824-4bab-8bbb-6adffd9f1ecf",
   "metadata": {
    "canvas": {
     "comments": [],
     "componentType": "CodeCell",
     "copiedOriginId": null,
     "diskcache": false,
     "headerColor": "transparent",
     "id": "936374d8-0955-4b84-912e-493b4b108d1c",
     "isComponent": false,
     "name": "",
     "parents": []
    }
   },
   "source": [
    "## Tạo Module, DataLoader, Optimazer"
   ]
  },
  {
   "cell_type": "code",
   "execution_count": 96,
   "id": "fc50b584-1124-4608-a60c-f89f330773a1",
   "metadata": {
    "canvas": {
     "comments": [],
     "componentType": "CodeCell",
     "copiedOriginId": null,
     "diskcache": true,
     "headerColor": "transparent",
     "id": "16ae0553-36ed-4929-8919-5dd80cebadc0",
     "isComponent": true,
     "name": "Module DataLoader Optimazer",
     "parents": [
      {
       "id": "2def13f3-ae26-4a3b-9d51-ce20449d08d1",
       "name": "Class Module"
      }
     ]
    },
    "tags": []
   },
   "outputs": [],
   "source": [
    "input_size = 28 * 28\n",
    "output_size = 10\n",
    "model = Softmax_Regression(input_size, output_size)\n",
    "trainloader = DataLoader(dataset=train_dataset, batch_size=1000)\n",
    "validloader = DataLoader(dataset=valid_dataset, batch_size=5000)\n",
    "optimazer = optim.SGD(model.parameters(), lr=0.01)"
   ]
  },
  {
   "cell_type": "markdown",
   "id": "8da144f4-55b4-4d74-ac5c-35b0c6cd9906",
   "metadata": {
    "canvas": {
     "comments": [],
     "componentType": "CodeCell",
     "copiedOriginId": null,
     "diskcache": false,
     "headerColor": "transparent",
     "id": "5ba987fc-0948-42c5-be6b-5058520ad24e",
     "isComponent": false,
     "name": "",
     "parents": []
    }
   },
   "source": [
    "## Khởi tạo bộ trọng số w, bias"
   ]
  },
  {
   "cell_type": "code",
   "execution_count": 97,
   "id": "a36a7a33-9717-40fc-bf71-a2490a1dd9c7",
   "metadata": {
    "canvas": {
     "comments": [],
     "componentType": "CodeCell",
     "copiedOriginId": null,
     "diskcache": true,
     "headerColor": "transparent",
     "id": "9f127e77-2147-4b5e-88dd-f5fa54913793",
     "isComponent": true,
     "name": "w_start  bias_start",
     "parents": [
      {
       "id": "16ae0553-36ed-4929-8919-5dd80cebadc0",
       "name": "Module DataLoader Optimazer"
      }
     ]
    },
    "tags": []
   },
   "outputs": [],
   "source": [
    "w_start = torch.ones(10, 784)\n",
    "b_start = torch.ones(10)\n",
    "model.state_dict()['linear.weight'][:] = w_start\n",
    "model.state_dict()['linear.bias'][:] = b_start"
   ]
  },
  {
   "cell_type": "markdown",
   "id": "aa85d016-a2a3-4a92-b01e-e8a144f3661a",
   "metadata": {
    "canvas": {
     "comments": [],
     "componentType": "CodeCell",
     "copiedOriginId": null,
     "diskcache": false,
     "headerColor": "transparent",
     "id": "f2cb9928-0124-46b8-b92a-f75b04d44afb",
     "isComponent": false,
     "name": "",
     "parents": []
    }
   },
   "source": [
    "## Training\n",
    "+ Khi Validate, t sẽ kí hiệu z thay vì yhat là vì z kết quả của model(x) trả về là xác suất của x khi rơi và các nhãn. z ở đây có 10 giá trị tương trưng cho 10 xs của 10 nhãn. các giá trị của z chính là mũ của tử số của công thức  \n",
    "$$Activation Function: P_k(X_i) = \\frac{e^{X_i W_k + W_{0,k}}}{\\sum_{l=0}^{K-1}(e^{X_i W_l + W_{0,l}})}$$\n",
    "+ yhat sẽ được tính sau trong hàm CrossEntropyLoss() \n",
    "+ <u>*Ko cần cho z qua hàm Softmax*</u> là vì ta chỉ cần so sánh phần tử số xem cái nào lớn nhất thì là nhãn đó  \n",
    "**Chú ý:** Hàm transform.toTensor() chỉ chuyển ảnh thành Tensor 2D.Muốn sử dụng Tensor này trong mô hình thì phải chuyển nó về dạng Tensor 1D. vì hàm Linear sử dụng trong class Module chỉ có coi môi dòng (Tensor 1D) như là 1 Sample, điều này giúp nó thực hiện các phép toán trên ma trận 1 cách song song trên GPU     \n",
    "<img src=\"https://s3-api.us-geo.objectstorage.softlayer.net/cf-courses-data/CognitiveClass/DL0110EN/notebook_images%20/chapter3/3.32_image_values.png\" width=\"550\" alt=\"MNIST elements\">  \n"
   ]
  },
  {
   "cell_type": "code",
   "execution_count": 102,
   "id": "6d5430fc-bab4-4ceb-aefd-3759c69e0676",
   "metadata": {
    "canvas": {
     "comments": [],
     "componentType": "CodeCell",
     "copiedOriginId": null,
     "diskcache": true,
     "headerColor": "transparent",
     "id": "01f5a108-938e-453d-b0a5-8a64a8e396fd",
     "isComponent": true,
     "name": "Training",
     "parents": [
      {
       "id": "9f127e77-2147-4b5e-88dd-f5fa54913793",
       "name": "w_start  bias_start"
      }
     ]
    },
    "tags": []
   },
   "outputs": [],
   "source": [
    "accurancy = []\n",
    "COST = []\n",
    "N = len(valid_dataset)   # số sample trong valid_set\n",
    "def training(epochs):\n",
    "    for epoch in range(epochs):\n",
    "        for x,y in trainloader:\n",
    "            z = model(x.view(-1, 28*28))    # chuyển x thành Tensor 1D \n",
    "            loss = criterion(z, y)\n",
    "            optimazer.zero_grad()\n",
    "            loss.backward()\n",
    "            optimazer.step()\n",
    "        \n",
    "        correct = 0\n",
    "        for x,y in validloader:\n",
    "            z = model(x.view(-1, 28*28))\n",
    "            _,yhat = torch.max(z, 1)      # yhat là vị trí Tensor lớn nhất, tương ứng với giá trị nhãn; _ là giá trị Tensor lớn nhất.\n",
    "            correct += (y==yhat).sum().item()\n",
    "            \n",
    "        accurancy.append(correct/N)    \n",
    "\n",
    "training(10)"
   ]
  },
  {
   "cell_type": "markdown",
   "id": "b52d9259-86d7-4710-bc61-75aa7883d57f",
   "metadata": {
    "canvas": {
     "comments": [],
     "componentType": "CodeCell",
     "copiedOriginId": null,
     "diskcache": false,
     "headerColor": "transparent",
     "id": "d6fd98b1-406b-4586-b8b4-01d5317fded0",
     "isComponent": false,
     "name": "",
     "parents": []
    },
    "tags": []
   },
   "source": [
    "## Vẽ biểu đồ"
   ]
  },
  {
   "cell_type": "code",
   "execution_count": 99,
   "id": "71bf8c46-35a1-42df-a781-2d08717c7b99",
   "metadata": {
    "canvas": {
     "comments": [],
     "componentType": "CodeCell",
     "copiedOriginId": null,
     "diskcache": false,
     "headerColor": "transparent",
     "id": "885729fc-feb9-4f6a-9284-11bc722b3183",
     "isComponent": true,
     "name": "Plot",
     "parents": [
      {
       "id": "01f5a108-938e-453d-b0a5-8a64a8e396fd",
       "name": "Training"
      }
     ]
    },
    "tags": []
   },
   "outputs": [
    {
     "data": {
      "image/png": "[encoded data removed]",
      "text/plain": [
       "<Figure size 640x480 with 1 Axes>"
      ]
     },
     "metadata": {},
     "output_type": "display_data"
    }
   ],
   "source": [
    "plt.plot(range(0, 10), accurancy)\n",
    "plt.title('Accurancy')\n",
    "plt.show()"
   ]
  },
  {
   "attachments": {
    "63e40b81-0f07-4552-8f3e-1c56d6748979.png": {
     "image/png": "[encoded data removed]"
    }
   },
   "cell_type": "markdown",
   "id": "3f583dc9-e22d-4fbe-ad95-9fcc66525928",
   "metadata": {
    "canvas": {
     "comments": [],
     "componentType": "CodeCell",
     "copiedOriginId": null,
     "diskcache": false,
     "headerColor": "transparent",
     "id": "3f748705-b890-4351-af6f-bc89e9863c36",
     "isComponent": false,
     "name": "",
     "parents": []
    }
   },
   "source": [
    "## Xem kết quả \n",
    "![image.png](attachment:63e40b81-0f07-4552-8f3e-1c56d6748979.png)  \n",
    "+ Plot w, màu càng đỏ giá trị càng lớn, màu càng xanh thì càng nhỏ, màu trắng là giá trị ở giữa.  \n",
    "+ sử dụng vmin, vmax để ánh xạ bảng màu này vào giá trị của w. ví dụ w=[1, 2, 3, 4] thì màu xanh đậm nhất tương ứng w=1, màu đỏ đậm nhất tương ứng w=4  \n",
    "**Chú ý:** khi chia thành fig và axes, thì tất cả các hàm dùng cho plt, ví dụ <u>*plt.xlabel()*</u> thì đều gắn thêm chữ set ở tên, ví du. <u>*axes.set_xlabe()*</u>"
   ]
  },
  {
   "cell_type": "code",
   "execution_count": 100,
   "id": "e079b4fb-6f3d-4b07-927e-d570969bac9a",
   "metadata": {
    "canvas": {
     "comments": [],
     "componentType": "CodeCell",
     "copiedOriginId": null,
     "diskcache": false,
     "headerColor": "transparent",
     "id": "5cc45fa6-9363-4f01-8ac5-6691a821232f",
     "isComponent": true,
     "name": "Show Result",
     "parents": [
      {
       "id": "01f5a108-938e-453d-b0a5-8a64a8e396fd",
       "name": "Training"
      }
     ]
    },
    "tags": []
   },
   "outputs": [],
   "source": [
    "# Plot w, màu càng đỏ thì càng lớn, màu càng xanh thì càng nhỏ, màu trắng là giá trị ở giữa\n",
    "def PlotParameters(model): \n",
    "    w = model.state_dict()['linear.weight'][:]\n",
    "    fig,axes = plt.subplots(2, 5)\n",
    "    fig.subplots_adjust(hspace=0.01, wspace=0.1)\n",
    "    w_min = w.min().item()    # giá trị nhỏ nhất trong bảng màu cmap sẽ đc ánh xạ tới giá trị này\n",
    "    w_max = w.max().item()    # giá trị lớn nhất trong bảng màu cmap sẽ đc ánh xạ tới giá trị này\n",
    "    for i,ax in enumerate(axes.flat):\n",
    "        ax.imshow(w[i].view(28, 28), vmin=w_min, vmax=w_max, cmap='seismic')\n",
    "        ax.set_xticks([])\n",
    "        ax.set_yticks([])\n",
    "        ax.set_xlabel(f'class: {i}')\n",
    "    plt.show()  "
   ]
  },
  {
   "cell_type": "code",
   "execution_count": 101,
   "id": "7a49ff24-75a0-48ff-b99e-7e219180c3f3",
   "metadata": {
    "canvas": {
     "comments": [],
     "componentType": "CodeCell",
     "copiedOriginId": null,
     "diskcache": false,
     "headerColor": "transparent",
     "id": "7dd5d3b9-bceb-42ca-a2e1-c5e853b03b34",
     "isComponent": false,
     "name": "",
     "parents": []
    },
    "tags": []
   },
   "outputs": [
    {
     "data": {
      "image/png": "[encoded data removed]",
      "text/plain": [
       "<Figure size 640x480 with 10 Axes>"
      ]
     },
     "metadata": {},
     "output_type": "display_data"
    }
   ],
   "source": [
    " PlotParameters(model)"
   ]
  }
 ],
 "metadata": {
  "canvas": {
   "colorPalette": [
    "inherit",
    "inherit",
    "inherit",
    "inherit",
    "inherit",
    "inherit",
    "inherit",
    "inherit",
    "inherit",
    "inherit"
   ],
   "parameters": [],
   "version": "1.0"
  },
  "kernelspec": {
   "display_name": "Python 3 (ipykernel)",
   "language": "python",
   "name": "python3"
  },
  "language_info": {
   "codemirror_mode": {
    "name": "ipython",
    "version": 3
   },
   "file_extension": ".py",
   "mimetype": "text/x-python",
   "name": "python",
   "nbconvert_exporter": "python",
   "pygments_lexer": "ipython3",
   "version": "3.10.6"
  },
  "toc-showcode": false,
  "toc-showmarkdowntxt": true
 },
 "nbformat": 4,
 "nbformat_minor": 5
}
